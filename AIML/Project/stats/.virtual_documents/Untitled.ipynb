import pandas as pd
import matplotlib.pyplot as plt
import seaborn as sns

def read_and_visualize_all(file_path):
    # Read the CSV file
    df = pd.read_csv(file_path)
    
    # Create subplots for each metric
    fig, axs = plt.subplots(4, 1, figsize=(15, 20))
    sns.set_style("whitegrid")
    
    # Plot Physics Time
    axs[0].plot(df['Wall Time (ms)'], df['Physics Time (ms)'], 
                linewidth=2, marker='o', markersize=3, 
                color='#1f77b4', alpha=0.7)
    axs[0].set_title('Physics Time Over Wall Time', fontsize=14, pad=10)
    axs[0].set_xlabel('Wall Time (ms)')
    axs[0].set_ylabel('Physics Time (ms)')
    axs[0].grid(True, linestyle='--', alpha=0.7)
    
    # Plot System Memory
    axs[1].plot(df['Wall Time (ms)'], df['System Memory (MB)'], 
                linewidth=2, marker='o', markersize=3, 
                color='#2ca02c', alpha=0.7)
    axs[1].set_title('System Memory Over Wall Time', fontsize=14, pad=10)
    axs[1].set_xlabel('Wall Time (ms)')
    axs[1].set_ylabel('System Memory (MB)')
    axs[1].grid(True, linestyle='--', alpha=0.7)
    
    # Plot Script Time
    axs[2].plot(df['Wall Time (ms)'], df['Script Time (ms)'], 
                linewidth=2, marker='o', markersize=3, 
                color='#ff7f0e', alpha=0.7)
    axs[2].set_title('Script Time Over Wall Time', fontsize=14, pad=10)
    axs[2].set_xlabel('Wall Time (ms)')
    axs[2].set_ylabel('Script Time (ms)')
    axs[2].grid(True, linestyle='--', alpha=0.7)
    
    # Plot Blue Cumulative Reward
    axs[3].plot(df['Wall Time (ms)'], df['Blue Cumulative Reward'], 
                linewidth=2, marker='o', markersize=3, 
                color='#d62728', alpha=0.7)
    axs[3].set_title('Blue Cumulative Reward Over Wall Time', fontsize=14, pad=10)
    axs[3].set_xlabel('Wall Time (ms)')
    axs[3].set_ylabel('Blue Cumulative Reward')
    axs[3].grid(True, linestyle='--', alpha=0.7)
    
    # Adjust layout to prevent overlap
    plt.tight_layout(pad=3.0)
    
    # Show the plot
    plt.show()
    
    # Print statistics for each metric
    print("\nData Statistics:")
    metrics = ['Physics Time (ms)', 'System Memory (MB)', 'Script Time (ms)', 'Blue Cumulative Reward']
    for metric in metrics:
        print(f"\n{metric} Statistics:")
        print(df[metric].describe())

# Usage
file_path = 'SoccerStats_2025-01-09-15-1.csv'  # Replace with your file path
read_and_visualize_all(file_path)



