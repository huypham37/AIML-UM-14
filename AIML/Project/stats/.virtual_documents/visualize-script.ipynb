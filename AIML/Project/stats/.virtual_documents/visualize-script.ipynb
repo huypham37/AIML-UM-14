# Enable inline plotting for Jupyter Lab
%matplotlib inline
import pandas as pd
import matplotlib.pyplot as plt
import seaborn as sns

# Read the CSV files
file_paths = [
    '/Users/mac/Documents/UM/UM-Old/Year_2/PROJECT2_1/AIML-UM-14/AIML/Project/stats/Batch-size_512-1.csv',
    '/Users/mac/Documents/UM/UM-Old/Year_2/PROJECT2_1/AIML-UM-14/AIML/Project/stats/Batch-size_512-2.csv',
    '/Users/mac/Documents/UM/UM-Old/Year_2/PROJECT2_1/AIML-UM-14/AIML/Project/stats/Batch-size_512-3.csv'
]

dfs = [pd.read_csv(fp) for fp in file_paths]

# Determine the minimum length among all runs
min_length = min(len(df) for df in dfs)

# Trim all DataFrames to the minimum length
trimmed_dfs = [df.iloc[:min_length].reset_index(drop=True) for df in dfs]

# Calculate the average using groupby with level=0
avg_df = pd.concat(trimmed_dfs).groupby(level=0).mean().reset_index(drop=True)

# Convert Wall Time from ms to seconds
avg_df['Wall Time (s)'] = avg_df['Wall Time (ms)'] / 1000

# Create a new column for 30-second intervals
avg_df['Interval_30s'] = (avg_df['Wall Time (s)'] // 30) * 30

# Group by the 30-second intervals and calculate the mean
cleaned_avg_df = avg_df.groupby('Interval_30s').mean().reset_index()

# Display the cleaned average DataFrame
print(cleaned_avg_df)

# Plot distribution for Physics Time using average data
plt.figure(figsize=(8, 6))
sns.histplot(cleaned_avg_df['Physics Time (ms)'], kde=True)
plt.title('Average Distribution of Physics Time (ms)')
plt.xlabel('Physics Time (ms)')
plt.ylabel('Frequency')
plt.show()

# Plot distribution for Main Thread Time using average data
plt.figure(figsize=(8, 6))
sns.histplot(cleaned_avg_df['Main Thread Time (ms)'], kde=True)
plt.title('Average Distribution of Main Thread Time (ms)')
plt.xlabel('Main Thread Time (ms)')
plt.ylabel('Frequency')
plt.show()

# Plot distribution for System Memory using average data
plt.figure(figsize=(8, 6))
sns.histplot(cleaned_avg_df['System Memory (MB)'], kde=True)
plt.title('Average Distribution of System Memory (MB)')
plt.xlabel('System Memory (MB)')
plt.ylabel('Frequency')
plt.show()

# Plot distribution for Blue Cumulative Reward using average data
plt.figure(figsize=(8, 6))
sns.histplot(cleaned_avg_df['Blue Cumulative Reward'], kde=True)
plt.title('Average Distribution of Blue Cumulative Reward')
plt.xlabel('Blue Cumulative Reward')
plt.ylabel('Frequency')
plt.show()

# Convert Wall Time from ms to seconds
cleaned_avg_df['Wall Time (s)'] = cleaned_avg_df['Wall Time (ms)'] / 1000

# Plot Wall Time vs Blue Cumulative Reward as a pure line graph using average data
plt.figure(figsize=(10, 6))
sns.lineplot(x='Wall Time (s)', y='Blue Cumulative Reward', data=cleaned_avg_df)
plt.title('Wall Time vs Blue Cumulative Reward (Average)')
plt.xlabel('Wall Time (s)')
plt.ylabel('Blue Cumulative Reward')
plt.show()



